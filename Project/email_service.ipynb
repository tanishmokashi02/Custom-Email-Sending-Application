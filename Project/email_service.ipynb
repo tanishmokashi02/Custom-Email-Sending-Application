{
 "cells": [
  {
   "cell_type": "code",
   "execution_count": 5,
   "id": "19657fc5-4bc4-4837-892d-42f6cb54babb",
   "metadata": {},
   "outputs": [],
   "source": [
    "import sendgrid\n",
    "from sendgrid.helpers.mail import Mail\n",
    "\n",
    "def send_email_with_sendgrid(api_key, to_email, subject, content):\n",
    "    sg = sendgrid.SendGridAPIClient(api_key=api_key)\n",
    "    message = Mail(\n",
    "        from_email='mokashitanish2003@gmail.com',\n",
    "        to_emails=to_email,\n",
    "        subject=subject,\n",
    "        html_content=content\n",
    "    )\n",
    "    response = sg.send(message)\n",
    "    return response\n"
   ]
  },
  {
   "cell_type": "code",
   "execution_count": null,
   "id": "ac1a1241-8b5e-4f00-90cf-9e154f92e6f6",
   "metadata": {},
   "outputs": [],
   "source": []
  }
 ],
 "metadata": {
  "kernelspec": {
   "display_name": "Python 3 (ipykernel)",
   "language": "python",
   "name": "python3"
  },
  "language_info": {
   "codemirror_mode": {
    "name": "ipython",
    "version": 3
   },
   "file_extension": ".py",
   "mimetype": "text/x-python",
   "name": "python",
   "nbconvert_exporter": "python",
   "pygments_lexer": "ipython3",
   "version": "3.11.4"
  }
 },
 "nbformat": 4,
 "nbformat_minor": 5
}
