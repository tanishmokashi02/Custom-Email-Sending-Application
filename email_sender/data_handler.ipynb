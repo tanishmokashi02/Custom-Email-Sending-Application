{
 "cells": [
  {
   "cell_type": "code",
   "execution_count": 1,
   "id": "96e76ede-8d92-4a49-ad94-75327ab44cb9",
   "metadata": {},
   "outputs": [],
   "source": [
    "from google.oauth2 import service_account\n",
    "from googleapiclient.discovery import build\n",
    "\n",
    "def read_google_sheet(sheet_id, range_name):\n",
    "    credentials = service_account.Credentials.from_service_account_file(\n",
    "        'credentials.json', scopes=[\"https://www.googleapis.com/auth/spreadsheets.readonly\"]\n",
    "    )\n",
    "    service = build('sheets', 'v4', credentials=credentials)\n",
    "    sheet = service.spreadsheets()\n",
    "    result = sheet.values().get(spreadsheetId=sheet_id, range=range_name).execute()\n",
    "    return result.get('values', [])\n"
   ]
  },
  {
   "cell_type": "code",
   "execution_count": 5,
   "id": "80533841-d535-4ade-a187-e6bfc34447d8",
   "metadata": {},
   "outputs": [
    {
     "name": "stdout",
     "output_type": "stream",
     "text": [
      "CSV file created successfully!\n"
     ]
    }
   ],
   "source": [
    "import pandas as pd\n",
    "\n",
    "# Sample extended data\n",
    "data_extended = {\n",
    "    \"Company Name\": [\n",
    "        \"ABC Corp\", \"XYZ Ltd\", \"DEF Inc\", \"GHI GmbH\", \"LMN Tech\", \"PQR Solutions\", \n",
    "        \"STU Enterprises\", \"VWX Industries\", \"YZA Ltd\", \"BCD Corp\"\n",
    "    ],\n",
    "    \"Location\": [\n",
    "        \"New York, USA\", \"London, UK\", \"Mumbai, India\", \"Berlin, Germany\", \"Paris, France\", \n",
    "        \"Toronto, Canada\", \"Sydney, Australia\", \"Singapore\", \"Tokyo, Japan\", \"Cape Town, South Africa\"\n",
    "    ],\n",
    "    \"Email\": [\n",
    "        \"contact@abccorp.com\", \"info@xyzltd.co.uk\", \"hello@definc.com\", \"contact@ghigmbh.de\", \n",
    "        \"sales@lmntech.com\", \"support@pqsolutions.com\", \"info@stuenterprises.com\", \n",
    "        \"contact@vwxindustries.com\", \"marketing@yza.com\", \"info@bcdcorp.com\"\n",
    "    ],\n",
    "    \"Products\": [\n",
    "        \"Electronics\", \"Home Appliances\", \"Health Products\", \"Automotive\", \"Software Solutions\", \n",
    "        \"Consulting Services\", \"Retail\", \"Manufacturing\", \"E-commerce\", \"Technology\"\n",
    "    ]\n",
    "}\n",
    "\n",
    "# Convert the extended data into a DataFrame\n",
    "df_extended = pd.DataFrame(data_extended)\n",
    "\n",
    "# Save the DataFrame as a CSV file\n",
    "df_extended.to_csv('extended_recipients.csv', index=False)\n",
    "\n",
    "print(\"CSV file created successfully!\")\n"
   ]
  },
  {
   "cell_type": "code",
   "execution_count": 13,
   "id": "c2a7f67f-c340-4ece-a5a8-56c60bd17da6",
   "metadata": {},
   "outputs": [],
   "source": [
    "import pandas as pd\n",
    "\n",
    "def read_csv_file(file_path):\n",
    "    return pd.read_csv(r\"C:\\Users\\hp\\Desktop\\New\\recipients.csv\")\n"
   ]
  },
  {
   "cell_type": "code",
   "execution_count": null,
   "id": "966f7cb1-7335-463e-b9cf-a2347a32e1e4",
   "metadata": {},
   "outputs": [],
   "source": []
  }
 ],
 "metadata": {
  "kernelspec": {
   "display_name": "Python 3 (ipykernel)",
   "language": "python",
   "name": "python3"
  },
  "language_info": {
   "codemirror_mode": {
    "name": "ipython",
    "version": 3
   },
   "file_extension": ".py",
   "mimetype": "text/x-python",
   "name": "python",
   "nbconvert_exporter": "python",
   "pygments_lexer": "ipython3",
   "version": "3.11.4"
  }
 },
 "nbformat": 4,
 "nbformat_minor": 5
}
