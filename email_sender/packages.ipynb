{
 "cells": [
  {
   "cell_type": "code",
   "execution_count": 1,
   "id": "ac45f34a-4dae-490d-b2a6-34bdb9a336f3",
   "metadata": {},
   "outputs": [
    {
     "name": "stdout",
     "output_type": "stream",
     "text": [
      "Requirement already satisfied: flask in c:\\users\\hp\\and\\lib\\site-packages (3.0.3)\n",
      "Requirement already satisfied: flask-sqlalchemy in c:\\users\\hp\\and\\lib\\site-packages (3.1.1)\n",
      "Requirement already satisfied: google-auth-oauthlib in c:\\users\\hp\\and\\lib\\site-packages (1.2.1)\n",
      "Requirement already satisfied: google-auth-httplib2 in c:\\users\\hp\\and\\lib\\site-packages (0.2.0)\n",
      "Requirement already satisfied: google-api-python-client in c:\\users\\hp\\and\\lib\\site-packages (2.149.0)\n",
      "Requirement already satisfied: schedule in c:\\users\\hp\\and\\lib\\site-packages (1.2.2)\n",
      "Requirement already satisfied: openai in c:\\users\\hp\\and\\lib\\site-packages (1.54.3)\n",
      "Requirement already satisfied: sendgrid in c:\\users\\hp\\and\\lib\\site-packages (6.11.0)\n",
      "Requirement already satisfied: Werkzeug>=3.0.0 in c:\\users\\hp\\and\\lib\\site-packages (from flask) (3.1.3)\n",
      "Requirement already satisfied: Jinja2>=3.1.2 in c:\\users\\hp\\and\\lib\\site-packages (from flask) (3.1.2)\n",
      "Requirement already satisfied: itsdangerous>=2.1.2 in c:\\users\\hp\\and\\lib\\site-packages (from flask) (2.2.0)\n",
      "Requirement already satisfied: click>=8.1.3 in c:\\users\\hp\\and\\lib\\site-packages (from flask) (8.1.7)\n",
      "Requirement already satisfied: blinker>=1.6.2 in c:\\users\\hp\\and\\lib\\site-packages (from flask) (1.9.0)\n",
      "Requirement already satisfied: sqlalchemy>=2.0.16 in c:\\users\\hp\\and\\lib\\site-packages (from flask-sqlalchemy) (2.0.36)\n",
      "Requirement already satisfied: google-auth>=2.15.0 in c:\\users\\hp\\and\\lib\\site-packages (from google-auth-oauthlib) (2.35.0)\n",
      "Requirement already satisfied: requests-oauthlib>=0.7.0 in c:\\users\\hp\\and\\lib\\site-packages (from google-auth-oauthlib) (2.0.0)\n",
      "Requirement already satisfied: httplib2>=0.19.0 in c:\\users\\hp\\and\\lib\\site-packages (from google-auth-httplib2) (0.22.0)\n",
      "Requirement already satisfied: google-api-core!=2.0.*,!=2.1.*,!=2.2.*,!=2.3.0,<3.0.0.dev0,>=1.31.5 in c:\\users\\hp\\and\\lib\\site-packages (from google-api-python-client) (2.21.0)\n",
      "Requirement already satisfied: uritemplate<5,>=3.0.1 in c:\\users\\hp\\and\\lib\\site-packages (from google-api-python-client) (4.1.1)\n",
      "Requirement already satisfied: anyio<5,>=3.5.0 in c:\\users\\hp\\and\\lib\\site-packages (from openai) (3.5.0)\n",
      "Requirement already satisfied: distro<2,>=1.7.0 in c:\\users\\hp\\and\\lib\\site-packages (from openai) (1.9.0)\n",
      "Requirement already satisfied: httpx<1,>=0.23.0 in c:\\users\\hp\\and\\lib\\site-packages (from openai) (0.26.0)\n",
      "Requirement already satisfied: jiter<1,>=0.4.0 in c:\\users\\hp\\and\\lib\\site-packages (from openai) (0.7.0)\n",
      "Requirement already satisfied: pydantic<3,>=1.9.0 in c:\\users\\hp\\and\\lib\\site-packages (from openai) (2.5.3)\n",
      "Requirement already satisfied: sniffio in c:\\users\\hp\\and\\lib\\site-packages (from openai) (1.2.0)\n",
      "Requirement already satisfied: tqdm>4 in c:\\users\\hp\\and\\lib\\site-packages (from openai) (4.65.0)\n",
      "Requirement already satisfied: typing-extensions<5,>=4.11 in c:\\users\\hp\\and\\lib\\site-packages (from openai) (4.11.0)\n",
      "Requirement already satisfied: python-http-client>=3.2.1 in c:\\users\\hp\\and\\lib\\site-packages (from sendgrid) (3.3.7)\n",
      "Requirement already satisfied: starkbank-ecdsa>=2.0.1 in c:\\users\\hp\\and\\lib\\site-packages (from sendgrid) (2.2.0)\n",
      "Requirement already satisfied: idna>=2.8 in c:\\users\\hp\\and\\lib\\site-packages (from anyio<5,>=3.5.0->openai) (3.4)\n",
      "Requirement already satisfied: colorama in c:\\users\\hp\\and\\lib\\site-packages (from click>=8.1.3->flask) (0.4.6)\n",
      "Requirement already satisfied: googleapis-common-protos<2.0.dev0,>=1.56.2 in c:\\users\\hp\\and\\lib\\site-packages (from google-api-core!=2.0.*,!=2.1.*,!=2.2.*,!=2.3.0,<3.0.0.dev0,>=1.31.5->google-api-python-client) (1.65.0)\n",
      "Requirement already satisfied: protobuf!=3.20.0,!=3.20.1,!=4.21.0,!=4.21.1,!=4.21.2,!=4.21.3,!=4.21.4,!=4.21.5,<6.0.0.dev0,>=3.19.5 in c:\\users\\hp\\and\\lib\\site-packages (from google-api-core!=2.0.*,!=2.1.*,!=2.2.*,!=2.3.0,<3.0.0.dev0,>=1.31.5->google-api-python-client) (4.25.4)\n",
      "Requirement already satisfied: proto-plus<2.0.0dev,>=1.22.3 in c:\\users\\hp\\and\\lib\\site-packages (from google-api-core!=2.0.*,!=2.1.*,!=2.2.*,!=2.3.0,<3.0.0.dev0,>=1.31.5->google-api-python-client) (1.24.0)\n",
      "Requirement already satisfied: requests<3.0.0.dev0,>=2.18.0 in c:\\users\\hp\\and\\lib\\site-packages (from google-api-core!=2.0.*,!=2.1.*,!=2.2.*,!=2.3.0,<3.0.0.dev0,>=1.31.5->google-api-python-client) (2.31.0)\n",
      "Requirement already satisfied: cachetools<6.0,>=2.0.0 in c:\\users\\hp\\and\\lib\\site-packages (from google-auth>=2.15.0->google-auth-oauthlib) (5.5.0)\n",
      "Requirement already satisfied: pyasn1-modules>=0.2.1 in c:\\users\\hp\\and\\lib\\site-packages (from google-auth>=2.15.0->google-auth-oauthlib) (0.2.8)\n",
      "Requirement already satisfied: rsa<5,>=3.1.4 in c:\\users\\hp\\and\\lib\\site-packages (from google-auth>=2.15.0->google-auth-oauthlib) (4.9)\n",
      "Requirement already satisfied: pyparsing!=3.0.0,!=3.0.1,!=3.0.2,!=3.0.3,<4,>=2.4.2 in c:\\users\\hp\\and\\lib\\site-packages (from httplib2>=0.19.0->google-auth-httplib2) (3.0.9)\n",
      "Requirement already satisfied: certifi in c:\\users\\hp\\and\\lib\\site-packages (from httpx<1,>=0.23.0->openai) (2024.8.30)\n",
      "Requirement already satisfied: httpcore==1.* in c:\\users\\hp\\and\\lib\\site-packages (from httpx<1,>=0.23.0->openai) (1.0.2)\n",
      "Requirement already satisfied: h11<0.15,>=0.13 in c:\\users\\hp\\and\\lib\\site-packages (from httpcore==1.*->httpx<1,>=0.23.0->openai) (0.14.0)\n",
      "Requirement already satisfied: MarkupSafe>=2.0 in c:\\users\\hp\\and\\lib\\site-packages (from Jinja2>=3.1.2->flask) (2.1.1)\n",
      "Requirement already satisfied: annotated-types>=0.4.0 in c:\\users\\hp\\and\\lib\\site-packages (from pydantic<3,>=1.9.0->openai) (0.6.0)\n",
      "Requirement already satisfied: pydantic-core==2.14.6 in c:\\users\\hp\\and\\lib\\site-packages (from pydantic<3,>=1.9.0->openai) (2.14.6)\n",
      "Requirement already satisfied: oauthlib>=3.0.0 in c:\\users\\hp\\and\\lib\\site-packages (from requests-oauthlib>=0.7.0->google-auth-oauthlib) (3.2.2)\n",
      "Requirement already satisfied: greenlet!=0.4.17 in c:\\users\\hp\\and\\lib\\site-packages (from sqlalchemy>=2.0.16->flask-sqlalchemy) (2.0.1)\n",
      "Requirement already satisfied: pyasn1<0.5.0,>=0.4.6 in c:\\users\\hp\\and\\lib\\site-packages (from pyasn1-modules>=0.2.1->google-auth>=2.15.0->google-auth-oauthlib) (0.4.8)\n",
      "Requirement already satisfied: charset-normalizer<4,>=2 in c:\\users\\hp\\and\\lib\\site-packages (from requests<3.0.0.dev0,>=2.18.0->google-api-core!=2.0.*,!=2.1.*,!=2.2.*,!=2.3.0,<3.0.0.dev0,>=1.31.5->google-api-python-client) (2.0.4)\n",
      "Requirement already satisfied: urllib3<3,>=1.21.1 in c:\\users\\hp\\and\\lib\\site-packages (from requests<3.0.0.dev0,>=2.18.0->google-api-core!=2.0.*,!=2.1.*,!=2.2.*,!=2.3.0,<3.0.0.dev0,>=1.31.5->google-api-python-client) (1.26.16)\n"
     ]
    }
   ],
   "source": [
    "! pip install flask flask-sqlalchemy google-auth-oauthlib google-auth-httplib2 google-api-python-client schedule openai sendgrid"
   ]
  },
  {
   "cell_type": "code",
   "execution_count": null,
   "id": "32cfd209-6502-452c-aa3e-74f29098321b",
   "metadata": {},
   "outputs": [],
   "source": []
  }
 ],
 "metadata": {
  "kernelspec": {
   "display_name": "Python 3 (ipykernel)",
   "language": "python",
   "name": "python3"
  },
  "language_info": {
   "codemirror_mode": {
    "name": "ipython",
    "version": 3
   },
   "file_extension": ".py",
   "mimetype": "text/x-python",
   "name": "python",
   "nbconvert_exporter": "python",
   "pygments_lexer": "ipython3",
   "version": "3.11.4"
  }
 },
 "nbformat": 4,
 "nbformat_minor": 5
}
